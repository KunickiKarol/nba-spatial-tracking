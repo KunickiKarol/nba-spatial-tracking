{
 "cells": [
  {
   "cell_type": "code",
   "execution_count": 1,
   "metadata": {},
   "outputs": [
    {
     "name": "stdout",
     "output_type": "stream",
     "text": [
      "swap side quater 3\n",
      "swap side quater 4\n"
     ]
    }
   ],
   "source": [
    "from Game import Game\n",
    "import argparse\n",
    "game = Game(game_id='0021500492')\n",
    "game.event_index = 5\n",
    "_ = game.read_json()\n",
    "#"
   ]
  },
  {
   "cell_type": "code",
   "execution_count": 2,
   "metadata": {},
   "outputs": [
    {
     "name": "stderr",
     "output_type": "stream",
     "text": [
      "c:\\Users\\admin\\Downloads\\nba\\Game.py:468: SettingWithCopyWarning: \n",
      "A value is trying to be set on a copy of a slice from a DataFrame\n",
      "\n",
      "See the caveats in the documentation: https://pandas.pydata.org/pandas-docs/stable/user_guide/indexing.html#returning-a-view-versus-a-copy\n",
      "  merge_df.rename(columns=ball_cord_names, inplace=True)\n"
     ]
    }
   ],
   "source": [
    "a, b = game.get_move_seq_dfs()"
   ]
  },
  {
   "cell_type": "code",
   "execution_count": 4,
   "metadata": {},
   "outputs": [
    {
     "data": {
      "text/html": [
       "<div>\n",
       "<style scoped>\n",
       "    .dataframe tbody tr th:only-of-type {\n",
       "        vertical-align: middle;\n",
       "    }\n",
       "\n",
       "    .dataframe tbody tr th {\n",
       "        vertical-align: top;\n",
       "    }\n",
       "\n",
       "    .dataframe thead th {\n",
       "        text-align: right;\n",
       "    }\n",
       "</style>\n",
       "<table border=\"1\" class=\"dataframe\">\n",
       "  <thead>\n",
       "    <tr style=\"text-align: right;\">\n",
       "      <th></th>\n",
       "      <th>move_id</th>\n",
       "      <th>moment_id</th>\n",
       "      <th>x</th>\n",
       "      <th>y</th>\n",
       "      <th>z</th>\n",
       "      <th>object_id</th>\n",
       "    </tr>\n",
       "  </thead>\n",
       "  <tbody>\n",
       "    <tr>\n",
       "      <th>0</th>\n",
       "      <td>0</td>\n",
       "      <td>0</td>\n",
       "      <td>33.08382</td>\n",
       "      <td>41.39121</td>\n",
       "      <td>5.78885</td>\n",
       "      <td>-1</td>\n",
       "    </tr>\n",
       "    <tr>\n",
       "      <th>11</th>\n",
       "      <td>11</td>\n",
       "      <td>1</td>\n",
       "      <td>33.06907</td>\n",
       "      <td>41.88465</td>\n",
       "      <td>6.28046</td>\n",
       "      <td>-1</td>\n",
       "    </tr>\n",
       "    <tr>\n",
       "      <th>22</th>\n",
       "      <td>22</td>\n",
       "      <td>2</td>\n",
       "      <td>32.96188</td>\n",
       "      <td>42.42479</td>\n",
       "      <td>6.55345</td>\n",
       "      <td>-1</td>\n",
       "    </tr>\n",
       "    <tr>\n",
       "      <th>33</th>\n",
       "      <td>33</td>\n",
       "      <td>3</td>\n",
       "      <td>32.90732</td>\n",
       "      <td>42.56305</td>\n",
       "      <td>6.83685</td>\n",
       "      <td>-1</td>\n",
       "    </tr>\n",
       "    <tr>\n",
       "      <th>44</th>\n",
       "      <td>44</td>\n",
       "      <td>4</td>\n",
       "      <td>32.46702</td>\n",
       "      <td>42.72148</td>\n",
       "      <td>7.07852</td>\n",
       "      <td>-1</td>\n",
       "    </tr>\n",
       "    <tr>\n",
       "      <th>...</th>\n",
       "      <td>...</td>\n",
       "      <td>...</td>\n",
       "      <td>...</td>\n",
       "      <td>...</td>\n",
       "      <td>...</td>\n",
       "      <td>...</td>\n",
       "    </tr>\n",
       "    <tr>\n",
       "      <th>862070</th>\n",
       "      <td>862070</td>\n",
       "      <td>78370</td>\n",
       "      <td>11.76434</td>\n",
       "      <td>33.84456</td>\n",
       "      <td>3.36596</td>\n",
       "      <td>-1</td>\n",
       "    </tr>\n",
       "    <tr>\n",
       "      <th>862081</th>\n",
       "      <td>862081</td>\n",
       "      <td>78371</td>\n",
       "      <td>12.03679</td>\n",
       "      <td>33.85459</td>\n",
       "      <td>3.54923</td>\n",
       "      <td>-1</td>\n",
       "    </tr>\n",
       "    <tr>\n",
       "      <th>862092</th>\n",
       "      <td>862092</td>\n",
       "      <td>78372</td>\n",
       "      <td>12.32326</td>\n",
       "      <td>33.86240</td>\n",
       "      <td>3.69196</td>\n",
       "      <td>-1</td>\n",
       "    </tr>\n",
       "    <tr>\n",
       "      <th>862103</th>\n",
       "      <td>862103</td>\n",
       "      <td>78373</td>\n",
       "      <td>12.62239</td>\n",
       "      <td>33.86827</td>\n",
       "      <td>3.79922</td>\n",
       "      <td>-1</td>\n",
       "    </tr>\n",
       "    <tr>\n",
       "      <th>862114</th>\n",
       "      <td>862114</td>\n",
       "      <td>78374</td>\n",
       "      <td>12.93283</td>\n",
       "      <td>33.87247</td>\n",
       "      <td>3.87607</td>\n",
       "      <td>-1</td>\n",
       "    </tr>\n",
       "  </tbody>\n",
       "</table>\n",
       "<p>53421 rows × 6 columns</p>\n",
       "</div>"
      ],
      "text/plain": [
       "        move_id  moment_id         x         y        z  object_id\n",
       "0             0          0  33.08382  41.39121  5.78885         -1\n",
       "11           11          1  33.06907  41.88465  6.28046         -1\n",
       "22           22          2  32.96188  42.42479  6.55345         -1\n",
       "33           33          3  32.90732  42.56305  6.83685         -1\n",
       "44           44          4  32.46702  42.72148  7.07852         -1\n",
       "...         ...        ...       ...       ...      ...        ...\n",
       "862070   862070      78370  11.76434  33.84456  3.36596         -1\n",
       "862081   862081      78371  12.03679  33.85459  3.54923         -1\n",
       "862092   862092      78372  12.32326  33.86240  3.69196         -1\n",
       "862103   862103      78373  12.62239  33.86827  3.79922         -1\n",
       "862114   862114      78374  12.93283  33.87247  3.87607         -1\n",
       "\n",
       "[53421 rows x 6 columns]"
      ]
     },
     "execution_count": 4,
     "metadata": {},
     "output_type": "execute_result"
    }
   ],
   "source": [
    "b\n"
   ]
  }
 ],
 "metadata": {
  "kernelspec": {
   "display_name": "qwe",
   "language": "python",
   "name": "python3"
  },
  "language_info": {
   "codemirror_mode": {
    "name": "ipython",
    "version": 3
   },
   "file_extension": ".py",
   "mimetype": "text/x-python",
   "name": "python",
   "nbconvert_exporter": "python",
   "pygments_lexer": "ipython3",
   "version": "3.11.5"
  }
 },
 "nbformat": 4,
 "nbformat_minor": 2
}
